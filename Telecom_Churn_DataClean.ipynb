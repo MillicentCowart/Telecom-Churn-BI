{
 "cells": [
  {
   "cell_type": "code",
   "execution_count": 10,
   "id": "24b5f467-fa66-4da9-9bc7-13379ed08133",
   "metadata": {},
   "outputs": [
    {
     "data": {
      "text/html": [
       "<div>\n",
       "<style scoped>\n",
       "    .dataframe tbody tr th:only-of-type {\n",
       "        vertical-align: middle;\n",
       "    }\n",
       "\n",
       "    .dataframe tbody tr th {\n",
       "        vertical-align: top;\n",
       "    }\n",
       "\n",
       "    .dataframe thead th {\n",
       "        text-align: right;\n",
       "    }\n",
       "</style>\n",
       "<table border=\"1\" class=\"dataframe\">\n",
       "  <thead>\n",
       "    <tr style=\"text-align: right;\">\n",
       "      <th></th>\n",
       "      <th>customerID</th>\n",
       "      <th>gender</th>\n",
       "      <th>SeniorCitizen</th>\n",
       "      <th>Partner</th>\n",
       "      <th>Dependents</th>\n",
       "      <th>tenure</th>\n",
       "      <th>PhoneService</th>\n",
       "      <th>MultipleLines</th>\n",
       "      <th>InternetService</th>\n",
       "      <th>OnlineSecurity</th>\n",
       "      <th>...</th>\n",
       "      <th>DeviceProtection</th>\n",
       "      <th>TechSupport</th>\n",
       "      <th>StreamingTV</th>\n",
       "      <th>StreamingMovies</th>\n",
       "      <th>Contract</th>\n",
       "      <th>PaperlessBilling</th>\n",
       "      <th>PaymentMethod</th>\n",
       "      <th>MonthlyCharges</th>\n",
       "      <th>TotalCharges</th>\n",
       "      <th>Churn</th>\n",
       "    </tr>\n",
       "  </thead>\n",
       "  <tbody>\n",
       "    <tr>\n",
       "      <th>0</th>\n",
       "      <td>7590-VHVEG</td>\n",
       "      <td>Female</td>\n",
       "      <td>0</td>\n",
       "      <td>Yes</td>\n",
       "      <td>No</td>\n",
       "      <td>1</td>\n",
       "      <td>No</td>\n",
       "      <td>No phone service</td>\n",
       "      <td>DSL</td>\n",
       "      <td>No</td>\n",
       "      <td>...</td>\n",
       "      <td>No</td>\n",
       "      <td>No</td>\n",
       "      <td>No</td>\n",
       "      <td>No</td>\n",
       "      <td>Month-to-month</td>\n",
       "      <td>Yes</td>\n",
       "      <td>Electronic check</td>\n",
       "      <td>29.85</td>\n",
       "      <td>29.85</td>\n",
       "      <td>No</td>\n",
       "    </tr>\n",
       "    <tr>\n",
       "      <th>1</th>\n",
       "      <td>5575-GNVDE</td>\n",
       "      <td>Male</td>\n",
       "      <td>0</td>\n",
       "      <td>No</td>\n",
       "      <td>No</td>\n",
       "      <td>34</td>\n",
       "      <td>Yes</td>\n",
       "      <td>No</td>\n",
       "      <td>DSL</td>\n",
       "      <td>Yes</td>\n",
       "      <td>...</td>\n",
       "      <td>Yes</td>\n",
       "      <td>No</td>\n",
       "      <td>No</td>\n",
       "      <td>No</td>\n",
       "      <td>One year</td>\n",
       "      <td>No</td>\n",
       "      <td>Mailed check</td>\n",
       "      <td>56.95</td>\n",
       "      <td>1889.5</td>\n",
       "      <td>No</td>\n",
       "    </tr>\n",
       "    <tr>\n",
       "      <th>2</th>\n",
       "      <td>3668-QPYBK</td>\n",
       "      <td>Male</td>\n",
       "      <td>0</td>\n",
       "      <td>No</td>\n",
       "      <td>No</td>\n",
       "      <td>2</td>\n",
       "      <td>Yes</td>\n",
       "      <td>No</td>\n",
       "      <td>DSL</td>\n",
       "      <td>Yes</td>\n",
       "      <td>...</td>\n",
       "      <td>No</td>\n",
       "      <td>No</td>\n",
       "      <td>No</td>\n",
       "      <td>No</td>\n",
       "      <td>Month-to-month</td>\n",
       "      <td>Yes</td>\n",
       "      <td>Mailed check</td>\n",
       "      <td>53.85</td>\n",
       "      <td>108.15</td>\n",
       "      <td>Yes</td>\n",
       "    </tr>\n",
       "  </tbody>\n",
       "</table>\n",
       "<p>3 rows × 21 columns</p>\n",
       "</div>"
      ],
      "text/plain": [
       "   customerID  gender  SeniorCitizen Partner Dependents  tenure PhoneService  \\\n",
       "0  7590-VHVEG  Female              0     Yes         No       1           No   \n",
       "1  5575-GNVDE    Male              0      No         No      34          Yes   \n",
       "2  3668-QPYBK    Male              0      No         No       2          Yes   \n",
       "\n",
       "      MultipleLines InternetService OnlineSecurity  ... DeviceProtection  \\\n",
       "0  No phone service             DSL             No  ...               No   \n",
       "1                No             DSL            Yes  ...              Yes   \n",
       "2                No             DSL            Yes  ...               No   \n",
       "\n",
       "  TechSupport StreamingTV StreamingMovies        Contract PaperlessBilling  \\\n",
       "0          No          No              No  Month-to-month              Yes   \n",
       "1          No          No              No        One year               No   \n",
       "2          No          No              No  Month-to-month              Yes   \n",
       "\n",
       "      PaymentMethod MonthlyCharges  TotalCharges Churn  \n",
       "0  Electronic check          29.85         29.85    No  \n",
       "1      Mailed check          56.95        1889.5    No  \n",
       "2      Mailed check          53.85        108.15   Yes  \n",
       "\n",
       "[3 rows x 21 columns]"
      ]
     },
     "execution_count": 10,
     "metadata": {},
     "output_type": "execute_result"
    }
   ],
   "source": [
    "# Import Data\n",
    "import pandas as pd\n",
    "df = pd.read_csv(r'C:\\Users\\milli\\OneDrive\\Documents\\TelcoCustomerChurn\\TelcoChurn_data_raw_8.25.25.csv')\n",
    "df.head(3)"
   ]
  },
  {
   "cell_type": "code",
   "execution_count": 12,
   "id": "84953a18-22ea-44e4-98c5-c5c874dca8d0",
   "metadata": {},
   "outputs": [
    {
     "name": "stdout",
     "output_type": "stream",
     "text": [
      "customerID          0\n",
      "gender              0\n",
      "SeniorCitizen       0\n",
      "Partner             0\n",
      "Dependents          0\n",
      "tenure              0\n",
      "PhoneService        0\n",
      "MultipleLines       0\n",
      "InternetService     0\n",
      "OnlineSecurity      0\n",
      "OnlineBackup        0\n",
      "DeviceProtection    0\n",
      "TechSupport         0\n",
      "StreamingTV         0\n",
      "StreamingMovies     0\n",
      "Contract            0\n",
      "PaperlessBilling    0\n",
      "PaymentMethod       0\n",
      "MonthlyCharges      0\n",
      "TotalCharges        0\n",
      "Churn               0\n",
      "dtype: int64\n"
     ]
    }
   ],
   "source": [
    "# Handle missing values\n",
    "print(df.isnull().sum())"
   ]
  },
  {
   "cell_type": "code",
   "execution_count": 16,
   "id": "e10fd781-d852-43cf-8043-2c3c7900cd2f",
   "metadata": {},
   "outputs": [],
   "source": [
    "# There are no missing values in this dataset. "
   ]
  },
  {
   "cell_type": "code",
   "execution_count": 18,
   "id": "0688f78a-f135-419e-8cce-b71f51ab04d7",
   "metadata": {},
   "outputs": [
    {
     "name": "stdout",
     "output_type": "stream",
     "text": [
      "customerID           object\n",
      "gender               object\n",
      "SeniorCitizen         int64\n",
      "Partner              object\n",
      "Dependents           object\n",
      "tenure                int64\n",
      "PhoneService         object\n",
      "MultipleLines        object\n",
      "InternetService      object\n",
      "OnlineSecurity       object\n",
      "OnlineBackup         object\n",
      "DeviceProtection     object\n",
      "TechSupport          object\n",
      "StreamingTV          object\n",
      "StreamingMovies      object\n",
      "Contract             object\n",
      "PaperlessBilling     object\n",
      "PaymentMethod        object\n",
      "MonthlyCharges      float64\n",
      "TotalCharges         object\n",
      "Churn                object\n",
      "dtype: object\n"
     ]
    }
   ],
   "source": [
    "# Consider data type\n",
    "print(df.dtypes)"
   ]
  },
  {
   "cell_type": "code",
   "execution_count": 28,
   "id": "968da2c8-9bce-4238-b3a3-dbfc54052442",
   "metadata": {},
   "outputs": [],
   "source": [
    "# CustomerID can remain an object as it has numbers and letters. "
   ]
  },
  {
   "cell_type": "code",
   "execution_count": 30,
   "id": "fa5ed6d7-1701-47c5-a2b9-c341bf82e836",
   "metadata": {},
   "outputs": [
    {
     "name": "stdout",
     "output_type": "stream",
     "text": [
      "gender\n",
      "Male      3555\n",
      "Female    3488\n",
      "Name: count, dtype: int64\n"
     ]
    }
   ],
   "source": [
    "# Gender can remain an object as it is a string. Check for consistent spelling and capitalization: \n",
    "print(df['gender'].value_counts())\n",
    "# Good, only 2 observations: Male and Female"
   ]
  },
  {
   "cell_type": "code",
   "execution_count": 34,
   "id": "0ad9847e-cac4-47b0-a198-5bcb117810a6",
   "metadata": {},
   "outputs": [
    {
     "name": "stdout",
     "output_type": "stream",
     "text": [
      "SeniorCitizen\n",
      "0    5901\n",
      "1    1142\n",
      "Name: count, dtype: int64\n"
     ]
    }
   ],
   "source": [
    "# SeniorCitizen can remain an integer as it records two options: 0/1\n",
    "print(df['SeniorCitizen'].value_counts())\n",
    "# Good, only 2 options recorded: 0/1"
   ]
  },
  {
   "cell_type": "code",
   "execution_count": 36,
   "id": "0675d407-50d5-47d0-9940-1ed7b7523e85",
   "metadata": {},
   "outputs": [
    {
     "name": "stdout",
     "output_type": "stream",
     "text": [
      "Partner\n",
      "No     3641\n",
      "Yes    3402\n",
      "Name: count, dtype: int64\n"
     ]
    }
   ],
   "source": [
    "# Partner can be changed to 0/1 for yes/no to keep consistent with other yes/no variables. First check that only yes/no is recorded.\n",
    "print(df['Partner'].value_counts())"
   ]
  },
  {
   "cell_type": "code",
   "execution_count": 38,
   "id": "a95d7a17-bfbe-4475-9a2c-d8717cd3fad7",
   "metadata": {},
   "outputs": [
    {
     "name": "stdout",
     "output_type": "stream",
     "text": [
      "Partner\n",
      "0    3641\n",
      "1    3402\n",
      "Name: count, dtype: int64\n"
     ]
    }
   ],
   "source": [
    "# Change Partner from yes/no to 1/0\n",
    "df['Partner'] = df['Partner'].map({'Yes': 1, 'No': 0})\n",
    "print(df['Partner'].value_counts())"
   ]
  },
  {
   "cell_type": "code",
   "execution_count": 67,
   "id": "35258f9f-7ec0-4628-976a-db79596c4e36",
   "metadata": {},
   "outputs": [],
   "source": [
    "# Same process for Dependents.\n",
    "# Note: accidentally rewrote the values for Dependents, so this data needed to be reloaded. \n",
    "dependents = pd.read_csv(r'C:\\Users\\milli\\OneDrive\\Documents\\TelcoCustomerChurn\\TelcoChurn_data_raw_8.25.25.csv', usecols=['Dependents'])\n",
    "df['Dependents'] = dependents"
   ]
  },
  {
   "cell_type": "code",
   "execution_count": 69,
   "id": "84613b62-a5e4-4971-8388-0f6608fef3e9",
   "metadata": {},
   "outputs": [
    {
     "name": "stdout",
     "output_type": "stream",
     "text": [
      "Dependents\n",
      "No     4933\n",
      "Yes    2110\n",
      "Name: count, dtype: int64\n"
     ]
    }
   ],
   "source": [
    "print(df['Dependents'].value_counts())"
   ]
  },
  {
   "cell_type": "code",
   "execution_count": 71,
   "id": "229ce71a-5e1b-4c61-a5c0-a114df29862f",
   "metadata": {},
   "outputs": [
    {
     "name": "stdout",
     "output_type": "stream",
     "text": [
      "Dependents\n",
      "0    4933\n",
      "1    2110\n",
      "Name: count, dtype: int64\n"
     ]
    }
   ],
   "source": [
    "df['Dependents'] = df['Dependents'].map({'Yes': 1, 'No': 0})\n",
    "print(df['Dependents'].value_counts())"
   ]
  },
  {
   "cell_type": "code",
   "execution_count": 73,
   "id": "04844850-964f-4116-a206-99cab625482e",
   "metadata": {},
   "outputs": [
    {
     "name": "stdout",
     "output_type": "stream",
     "text": [
      "customerID           object\n",
      "gender               object\n",
      "SeniorCitizen         int64\n",
      "Partner               int64\n",
      "Dependents            int64\n",
      "tenure                int64\n",
      "PhoneService         object\n",
      "MultipleLines        object\n",
      "InternetService      object\n",
      "OnlineSecurity       object\n",
      "OnlineBackup         object\n",
      "DeviceProtection     object\n",
      "TechSupport          object\n",
      "StreamingTV          object\n",
      "StreamingMovies      object\n",
      "Contract             object\n",
      "PaperlessBilling     object\n",
      "PaymentMethod        object\n",
      "MonthlyCharges      float64\n",
      "TotalCharges         object\n",
      "Churn                object\n",
      "dtype: object\n"
     ]
    }
   ],
   "source": [
    "print(df.dtypes)"
   ]
  },
  {
   "cell_type": "code",
   "execution_count": null,
   "id": "7a004bad-4342-4da4-8ad2-27732cd66809",
   "metadata": {},
   "outputs": [],
   "source": [
    "# Partner and Dependents automatically change to int64"
   ]
  },
  {
   "cell_type": "code",
   "execution_count": 75,
   "id": "067f2595-124b-4f1f-afb0-009ee36eb284",
   "metadata": {},
   "outputs": [],
   "source": [
    "# Tenure records the number of months the customer spends with the company. \n",
    "# This can remain an integer type"
   ]
  },
  {
   "cell_type": "code",
   "execution_count": 77,
   "id": "2d3eaca7-95cd-4774-b53c-3421668526e6",
   "metadata": {},
   "outputs": [
    {
     "name": "stdout",
     "output_type": "stream",
     "text": [
      "PhoneService\n",
      "Yes    6361\n",
      "No      682\n",
      "Name: count, dtype: int64\n"
     ]
    }
   ],
   "source": [
    "# Check PhoneService \n",
    "print(df['PhoneService'].value_counts())"
   ]
  },
  {
   "cell_type": "code",
   "execution_count": 79,
   "id": "0adb0496-921d-4717-9c96-c7732208d6b4",
   "metadata": {},
   "outputs": [
    {
     "name": "stdout",
     "output_type": "stream",
     "text": [
      "PhoneService\n",
      "1    6361\n",
      "0     682\n",
      "Name: count, dtype: int64\n"
     ]
    }
   ],
   "source": [
    "# Change to 0/1\n",
    "df['PhoneService'] = df['PhoneService'].map({'Yes': 1, 'No': 0})\n",
    "print(df['PhoneService'].value_counts())"
   ]
  },
  {
   "cell_type": "code",
   "execution_count": 81,
   "id": "2fa35051-db52-4537-bcc1-e754ccb6939a",
   "metadata": {},
   "outputs": [
    {
     "name": "stdout",
     "output_type": "stream",
     "text": [
      "MultipleLines\n",
      "No                  3390\n",
      "Yes                 2971\n",
      "No phone service     682\n",
      "Name: count, dtype: int64\n"
     ]
    }
   ],
   "source": [
    "# Check MultipleLines\n",
    "print(df['MultipleLines'].value_counts())"
   ]
  },
  {
   "cell_type": "code",
   "execution_count": 83,
   "id": "b368b37a-5b7a-4efe-9781-f48278ffc25c",
   "metadata": {},
   "outputs": [],
   "source": [
    "# This one can stay an object/string at least for now."
   ]
  },
  {
   "cell_type": "code",
   "execution_count": 85,
   "id": "151ef2c8-a55d-4e02-b5f2-5d19fbf4dc50",
   "metadata": {},
   "outputs": [
    {
     "name": "stdout",
     "output_type": "stream",
     "text": [
      "InternetService\n",
      "Fiber optic    3096\n",
      "DSL            2421\n",
      "No             1526\n",
      "Name: count, dtype: int64\n"
     ]
    }
   ],
   "source": [
    "# Check InternetService\n",
    "print(df['InternetService'].value_counts())"
   ]
  },
  {
   "cell_type": "code",
   "execution_count": 87,
   "id": "65b14292-b632-4e8a-8106-99191b3c3da9",
   "metadata": {},
   "outputs": [],
   "source": [
    "# This will stay an object for now."
   ]
  },
  {
   "cell_type": "code",
   "execution_count": 89,
   "id": "e3fb844c-1b38-4b35-9a1f-71bd57c70c46",
   "metadata": {},
   "outputs": [
    {
     "name": "stdout",
     "output_type": "stream",
     "text": [
      "OnlineSecurity\n",
      "No                     3498\n",
      "Yes                    2019\n",
      "No internet service    1526\n",
      "Name: count, dtype: int64\n"
     ]
    }
   ],
   "source": [
    "# Check OnlineSecurity\n",
    "print(df['OnlineSecurity'].value_counts())"
   ]
  },
  {
   "cell_type": "code",
   "execution_count": 91,
   "id": "9e16ae9a-5272-4c75-b0a1-e9236527751f",
   "metadata": {},
   "outputs": [],
   "source": [
    "# This will stay an object for now."
   ]
  },
  {
   "cell_type": "code",
   "execution_count": 93,
   "id": "03e8b95d-d765-4b8c-85a9-0c73571c9bbe",
   "metadata": {},
   "outputs": [
    {
     "name": "stdout",
     "output_type": "stream",
     "text": [
      "OnlineBackup\n",
      "No                     3088\n",
      "Yes                    2429\n",
      "No internet service    1526\n",
      "Name: count, dtype: int64\n"
     ]
    }
   ],
   "source": [
    "# Check OnlineBackup\n",
    "print(df['OnlineBackup'].value_counts())"
   ]
  },
  {
   "cell_type": "code",
   "execution_count": 95,
   "id": "6620bf75-c50c-444d-8b0c-7fce9f13b6ff",
   "metadata": {},
   "outputs": [],
   "source": [
    "# Stay an object for now."
   ]
  },
  {
   "cell_type": "code",
   "execution_count": 99,
   "id": "d5d5ab7d-dfc3-492e-bc2e-73132319ef62",
   "metadata": {},
   "outputs": [
    {
     "name": "stdout",
     "output_type": "stream",
     "text": [
      "DeviceProtection\n",
      "No                     3095\n",
      "Yes                    2422\n",
      "No internet service    1526\n",
      "Name: count, dtype: int64\n"
     ]
    }
   ],
   "source": [
    "# Check DeviceProtection\n",
    "print(df['DeviceProtection'].value_counts())"
   ]
  },
  {
   "cell_type": "code",
   "execution_count": 101,
   "id": "062cd864-1dd6-4aef-b950-94aa7bad90a5",
   "metadata": {},
   "outputs": [],
   "source": [
    "# Stay an object for now."
   ]
  },
  {
   "cell_type": "code",
   "execution_count": 103,
   "id": "a5523bf7-4f22-4692-9b31-2856ca092490",
   "metadata": {},
   "outputs": [
    {
     "name": "stdout",
     "output_type": "stream",
     "text": [
      "TechSupport\n",
      "No                     3473\n",
      "Yes                    2044\n",
      "No internet service    1526\n",
      "Name: count, dtype: int64\n"
     ]
    }
   ],
   "source": [
    "# Check TechSupport\n",
    "print(df['TechSupport'].value_counts())"
   ]
  },
  {
   "cell_type": "code",
   "execution_count": 105,
   "id": "b0ec9511-e6c2-406b-9c44-71d9b5ec99b5",
   "metadata": {},
   "outputs": [],
   "source": [
    "# Stay an object for now."
   ]
  },
  {
   "cell_type": "code",
   "execution_count": 107,
   "id": "7ae5be96-6be6-40b1-9e14-28c73b18807d",
   "metadata": {},
   "outputs": [
    {
     "name": "stdout",
     "output_type": "stream",
     "text": [
      "StreamingTV\n",
      "No                     2810\n",
      "Yes                    2707\n",
      "No internet service    1526\n",
      "Name: count, dtype: int64\n",
      "StreamingMovies\n",
      "No                     2785\n",
      "Yes                    2732\n",
      "No internet service    1526\n",
      "Name: count, dtype: int64\n"
     ]
    }
   ],
   "source": [
    "# Check StreamingTV\n",
    "print(df['StreamingTV'].value_counts())\n",
    "# Check StreamingMovies\n",
    "print(df['StreamingMovies'].value_counts())"
   ]
  },
  {
   "cell_type": "code",
   "execution_count": 109,
   "id": "ca1e8e47-fe9e-4590-93a8-ef5d5581401f",
   "metadata": {},
   "outputs": [],
   "source": [
    "# Both stay objects for now."
   ]
  },
  {
   "cell_type": "code",
   "execution_count": 111,
   "id": "1376e838-1ff8-4d52-916b-873b2d2c342b",
   "metadata": {},
   "outputs": [
    {
     "name": "stdout",
     "output_type": "stream",
     "text": [
      "Contract\n",
      "Month-to-month    3875\n",
      "Two year          1695\n",
      "One year          1473\n",
      "Name: count, dtype: int64\n"
     ]
    }
   ],
   "source": [
    "# Check Contract\n",
    "print(df['Contract'].value_counts())"
   ]
  },
  {
   "cell_type": "code",
   "execution_count": 113,
   "id": "93d0cad4-ded4-463a-ad07-9d788e3d9712",
   "metadata": {},
   "outputs": [],
   "source": [
    "# Stays an object."
   ]
  },
  {
   "cell_type": "code",
   "execution_count": 115,
   "id": "e6a93ad4-f2ca-4f35-9871-f4b490a06f16",
   "metadata": {},
   "outputs": [
    {
     "name": "stdout",
     "output_type": "stream",
     "text": [
      "PaperlessBilling\n",
      "Yes    4171\n",
      "No     2872\n",
      "Name: count, dtype: int64\n"
     ]
    }
   ],
   "source": [
    "# Check PaperlessBilling\n",
    "print(df['PaperlessBilling'].value_counts())"
   ]
  },
  {
   "cell_type": "code",
   "execution_count": 117,
   "id": "4f0d2669-4ced-4835-a05d-0e78407c9574",
   "metadata": {},
   "outputs": [
    {
     "name": "stdout",
     "output_type": "stream",
     "text": [
      "PaperlessBilling\n",
      "1    4171\n",
      "0    2872\n",
      "Name: count, dtype: int64\n"
     ]
    }
   ],
   "source": [
    "# Change to 0/1\n",
    "df['PaperlessBilling'] = df['PaperlessBilling'].map({'Yes': 1, 'No': 0})\n",
    "print(df['PaperlessBilling'].value_counts())"
   ]
  },
  {
   "cell_type": "code",
   "execution_count": 119,
   "id": "e3e3c4a7-d599-46cf-abd7-56ea7b2aa153",
   "metadata": {},
   "outputs": [
    {
     "name": "stdout",
     "output_type": "stream",
     "text": [
      "PaymentMethod\n",
      "Electronic check             2365\n",
      "Mailed check                 1612\n",
      "Bank transfer (automatic)    1544\n",
      "Credit card (automatic)      1522\n",
      "Name: count, dtype: int64\n"
     ]
    }
   ],
   "source": [
    "# Check PaymentMethod\n",
    "print(df['PaymentMethod'].value_counts())"
   ]
  },
  {
   "cell_type": "code",
   "execution_count": 121,
   "id": "77968758-39ac-44f1-8d15-0bba96b14438",
   "metadata": {},
   "outputs": [],
   "source": [
    "# Stays an Object."
   ]
  },
  {
   "cell_type": "code",
   "execution_count": 131,
   "id": "0d50432c-668b-4aec-bcc7-365969d88732",
   "metadata": {},
   "outputs": [
    {
     "ename": "AttributeError",
     "evalue": "Can only use .str accessor with string values!",
     "output_type": "error",
     "traceback": [
      "\u001b[1;31m---------------------------------------------------------------------------\u001b[0m",
      "\u001b[1;31mAttributeError\u001b[0m                            Traceback (most recent call last)",
      "Cell \u001b[1;32mIn[131], line 3\u001b[0m\n\u001b[0;32m      1\u001b[0m \u001b[38;5;66;03m# MonthlyCharges will stay a float as it contains decimals.\u001b[39;00m\n\u001b[0;32m      2\u001b[0m \u001b[38;5;66;03m# TotalCharges is also a decimal, but it is registered as an integer.\u001b[39;00m\n\u001b[1;32m----> 3\u001b[0m df[\u001b[38;5;124m'\u001b[39m\u001b[38;5;124mTotalCharges\u001b[39m\u001b[38;5;124m'\u001b[39m] \u001b[38;5;241m=\u001b[39m df[\u001b[38;5;124m'\u001b[39m\u001b[38;5;124mTotalCharges\u001b[39m\u001b[38;5;124m'\u001b[39m]\u001b[38;5;241m.\u001b[39mstr\u001b[38;5;241m.\u001b[39mstrip()\u001b[38;5;241m.\u001b[39mreplace(\u001b[38;5;124m'\u001b[39m\u001b[38;5;124m'\u001b[39m, \u001b[38;5;124m'\u001b[39m\u001b[38;5;124m0\u001b[39m\u001b[38;5;124m'\u001b[39m)\u001b[38;5;241m.\u001b[39mastype(\u001b[38;5;28mfloat\u001b[39m)\n",
      "File \u001b[1;32m~\\anaconda3\\Lib\\site-packages\\pandas\\core\\generic.py:6299\u001b[0m, in \u001b[0;36mNDFrame.__getattr__\u001b[1;34m(self, name)\u001b[0m\n\u001b[0;32m   6292\u001b[0m \u001b[38;5;28;01mif\u001b[39;00m (\n\u001b[0;32m   6293\u001b[0m     name \u001b[38;5;129;01mnot\u001b[39;00m \u001b[38;5;129;01min\u001b[39;00m \u001b[38;5;28mself\u001b[39m\u001b[38;5;241m.\u001b[39m_internal_names_set\n\u001b[0;32m   6294\u001b[0m     \u001b[38;5;129;01mand\u001b[39;00m name \u001b[38;5;129;01mnot\u001b[39;00m \u001b[38;5;129;01min\u001b[39;00m \u001b[38;5;28mself\u001b[39m\u001b[38;5;241m.\u001b[39m_metadata\n\u001b[0;32m   6295\u001b[0m     \u001b[38;5;129;01mand\u001b[39;00m name \u001b[38;5;129;01mnot\u001b[39;00m \u001b[38;5;129;01min\u001b[39;00m \u001b[38;5;28mself\u001b[39m\u001b[38;5;241m.\u001b[39m_accessors\n\u001b[0;32m   6296\u001b[0m     \u001b[38;5;129;01mand\u001b[39;00m \u001b[38;5;28mself\u001b[39m\u001b[38;5;241m.\u001b[39m_info_axis\u001b[38;5;241m.\u001b[39m_can_hold_identifiers_and_holds_name(name)\n\u001b[0;32m   6297\u001b[0m ):\n\u001b[0;32m   6298\u001b[0m     \u001b[38;5;28;01mreturn\u001b[39;00m \u001b[38;5;28mself\u001b[39m[name]\n\u001b[1;32m-> 6299\u001b[0m \u001b[38;5;28;01mreturn\u001b[39;00m \u001b[38;5;28mobject\u001b[39m\u001b[38;5;241m.\u001b[39m\u001b[38;5;21m__getattribute__\u001b[39m(\u001b[38;5;28mself\u001b[39m, name)\n",
      "File \u001b[1;32m~\\anaconda3\\Lib\\site-packages\\pandas\\core\\accessor.py:224\u001b[0m, in \u001b[0;36mCachedAccessor.__get__\u001b[1;34m(self, obj, cls)\u001b[0m\n\u001b[0;32m    221\u001b[0m \u001b[38;5;28;01mif\u001b[39;00m obj \u001b[38;5;129;01mis\u001b[39;00m \u001b[38;5;28;01mNone\u001b[39;00m:\n\u001b[0;32m    222\u001b[0m     \u001b[38;5;66;03m# we're accessing the attribute of the class, i.e., Dataset.geo\u001b[39;00m\n\u001b[0;32m    223\u001b[0m     \u001b[38;5;28;01mreturn\u001b[39;00m \u001b[38;5;28mself\u001b[39m\u001b[38;5;241m.\u001b[39m_accessor\n\u001b[1;32m--> 224\u001b[0m accessor_obj \u001b[38;5;241m=\u001b[39m \u001b[38;5;28mself\u001b[39m\u001b[38;5;241m.\u001b[39m_accessor(obj)\n\u001b[0;32m    225\u001b[0m \u001b[38;5;66;03m# Replace the property with the accessor object. Inspired by:\u001b[39;00m\n\u001b[0;32m    226\u001b[0m \u001b[38;5;66;03m# https://www.pydanny.com/cached-property.html\u001b[39;00m\n\u001b[0;32m    227\u001b[0m \u001b[38;5;66;03m# We need to use object.__setattr__ because we overwrite __setattr__ on\u001b[39;00m\n\u001b[0;32m    228\u001b[0m \u001b[38;5;66;03m# NDFrame\u001b[39;00m\n\u001b[0;32m    229\u001b[0m \u001b[38;5;28mobject\u001b[39m\u001b[38;5;241m.\u001b[39m\u001b[38;5;21m__setattr__\u001b[39m(obj, \u001b[38;5;28mself\u001b[39m\u001b[38;5;241m.\u001b[39m_name, accessor_obj)\n",
      "File \u001b[1;32m~\\anaconda3\\Lib\\site-packages\\pandas\\core\\strings\\accessor.py:191\u001b[0m, in \u001b[0;36mStringMethods.__init__\u001b[1;34m(self, data)\u001b[0m\n\u001b[0;32m    188\u001b[0m \u001b[38;5;28;01mdef\u001b[39;00m \u001b[38;5;21m__init__\u001b[39m(\u001b[38;5;28mself\u001b[39m, data) \u001b[38;5;241m-\u001b[39m\u001b[38;5;241m>\u001b[39m \u001b[38;5;28;01mNone\u001b[39;00m:\n\u001b[0;32m    189\u001b[0m     \u001b[38;5;28;01mfrom\u001b[39;00m \u001b[38;5;21;01mpandas\u001b[39;00m\u001b[38;5;21;01m.\u001b[39;00m\u001b[38;5;21;01mcore\u001b[39;00m\u001b[38;5;21;01m.\u001b[39;00m\u001b[38;5;21;01marrays\u001b[39;00m\u001b[38;5;21;01m.\u001b[39;00m\u001b[38;5;21;01mstring_\u001b[39;00m \u001b[38;5;28;01mimport\u001b[39;00m StringDtype\n\u001b[1;32m--> 191\u001b[0m     \u001b[38;5;28mself\u001b[39m\u001b[38;5;241m.\u001b[39m_inferred_dtype \u001b[38;5;241m=\u001b[39m \u001b[38;5;28mself\u001b[39m\u001b[38;5;241m.\u001b[39m_validate(data)\n\u001b[0;32m    192\u001b[0m     \u001b[38;5;28mself\u001b[39m\u001b[38;5;241m.\u001b[39m_is_categorical \u001b[38;5;241m=\u001b[39m \u001b[38;5;28misinstance\u001b[39m(data\u001b[38;5;241m.\u001b[39mdtype, CategoricalDtype)\n\u001b[0;32m    193\u001b[0m     \u001b[38;5;28mself\u001b[39m\u001b[38;5;241m.\u001b[39m_is_string \u001b[38;5;241m=\u001b[39m \u001b[38;5;28misinstance\u001b[39m(data\u001b[38;5;241m.\u001b[39mdtype, StringDtype)\n",
      "File \u001b[1;32m~\\anaconda3\\Lib\\site-packages\\pandas\\core\\strings\\accessor.py:245\u001b[0m, in \u001b[0;36mStringMethods._validate\u001b[1;34m(data)\u001b[0m\n\u001b[0;32m    242\u001b[0m inferred_dtype \u001b[38;5;241m=\u001b[39m lib\u001b[38;5;241m.\u001b[39minfer_dtype(values, skipna\u001b[38;5;241m=\u001b[39m\u001b[38;5;28;01mTrue\u001b[39;00m)\n\u001b[0;32m    244\u001b[0m \u001b[38;5;28;01mif\u001b[39;00m inferred_dtype \u001b[38;5;129;01mnot\u001b[39;00m \u001b[38;5;129;01min\u001b[39;00m allowed_types:\n\u001b[1;32m--> 245\u001b[0m     \u001b[38;5;28;01mraise\u001b[39;00m \u001b[38;5;167;01mAttributeError\u001b[39;00m(\u001b[38;5;124m\"\u001b[39m\u001b[38;5;124mCan only use .str accessor with string values!\u001b[39m\u001b[38;5;124m\"\u001b[39m)\n\u001b[0;32m    246\u001b[0m \u001b[38;5;28;01mreturn\u001b[39;00m inferred_dtype\n",
      "\u001b[1;31mAttributeError\u001b[0m: Can only use .str accessor with string values!"
     ]
    }
   ],
   "source": [
    "# MonthlyCharges will stay a float as it contains decimals.\n",
    "# TotalCharges is also a decimal, but it is registered as an object.\n",
    "df['TotalCharges'] = df['TotalCharges'].str.strip().replace('', '0').astype(float)"
   ]
  },
  {
   "cell_type": "code",
   "execution_count": 133,
   "id": "314161fd-d243-4d0d-abaa-97986d98ca52",
   "metadata": {},
   "outputs": [
    {
     "name": "stdout",
     "output_type": "stream",
     "text": [
      "Churn\n",
      "No     5174\n",
      "Yes    1869\n",
      "Name: count, dtype: int64\n"
     ]
    }
   ],
   "source": [
    "# Check Churn\n",
    "print(df['Churn'].value_counts())"
   ]
  },
  {
   "cell_type": "code",
   "execution_count": 135,
   "id": "490266ce-e9b6-4069-b71d-f2cb132a7597",
   "metadata": {},
   "outputs": [
    {
     "name": "stdout",
     "output_type": "stream",
     "text": [
      "Churn\n",
      "0    5174\n",
      "1    1869\n",
      "Name: count, dtype: int64\n"
     ]
    }
   ],
   "source": [
    "# Change to 0/1\n",
    "df['Churn'] = df['Churn'].map({'Yes': 1, 'No': 0})\n",
    "print(df['Churn'].value_counts())"
   ]
  },
  {
   "cell_type": "code",
   "execution_count": 137,
   "id": "c01a9f8f-39c1-4602-8933-7747dcc11958",
   "metadata": {},
   "outputs": [
    {
     "name": "stdout",
     "output_type": "stream",
     "text": [
      "customerID           object\n",
      "gender               object\n",
      "SeniorCitizen         int64\n",
      "Partner               int64\n",
      "Dependents            int64\n",
      "tenure                int64\n",
      "PhoneService          int64\n",
      "MultipleLines        object\n",
      "InternetService      object\n",
      "OnlineSecurity       object\n",
      "OnlineBackup         object\n",
      "DeviceProtection     object\n",
      "TechSupport          object\n",
      "StreamingTV          object\n",
      "StreamingMovies      object\n",
      "Contract             object\n",
      "PaperlessBilling      int64\n",
      "PaymentMethod        object\n",
      "MonthlyCharges      float64\n",
      "TotalCharges        float64\n",
      "Churn                 int64\n",
      "dtype: object\n"
     ]
    }
   ],
   "source": [
    "print(df.dtypes)"
   ]
  },
  {
   "cell_type": "code",
   "execution_count": 139,
   "id": "b2052018-5b00-438e-b786-f97d6166016e",
   "metadata": {},
   "outputs": [
    {
     "name": "stdout",
     "output_type": "stream",
     "text": [
      "11\n"
     ]
    }
   ],
   "source": [
    "# Check and make sure that TotalCharges didn't get messed up.\n",
    "print((df['TotalCharges'] == 0).sum())"
   ]
  },
  {
   "cell_type": "code",
   "execution_count": 143,
   "id": "5a439866-c639-47a2-ad7b-0cf72f591f15",
   "metadata": {},
   "outputs": [
    {
     "name": "stdout",
     "output_type": "stream",
     "text": [
      "      customerID  gender  SeniorCitizen  Partner  Dependents  tenure  \\\n",
      "488   4472-LVYGI  Female              0        1           1       0   \n",
      "753   3115-CZMZD    Male              0        0           1       0   \n",
      "936   5709-LVOEQ  Female              0        1           1       0   \n",
      "1082  4367-NUYAO    Male              0        1           1       0   \n",
      "1340  1371-DWPAZ  Female              0        1           1       0   \n",
      "3331  7644-OMVMY    Male              0        1           1       0   \n",
      "3826  3213-VVOLG    Male              0        1           1       0   \n",
      "4380  2520-SGTTA  Female              0        1           1       0   \n",
      "5218  2923-ARZLG    Male              0        1           1       0   \n",
      "6670  4075-WKNIU  Female              0        1           1       0   \n",
      "6754  2775-SEFEE    Male              0        0           1       0   \n",
      "\n",
      "      PhoneService     MultipleLines InternetService       OnlineSecurity  \\\n",
      "488              0  No phone service             DSL                  Yes   \n",
      "753              1                No              No  No internet service   \n",
      "936              1                No             DSL                  Yes   \n",
      "1082             1               Yes              No  No internet service   \n",
      "1340             0  No phone service             DSL                  Yes   \n",
      "3331             1                No              No  No internet service   \n",
      "3826             1               Yes              No  No internet service   \n",
      "4380             1                No              No  No internet service   \n",
      "5218             1                No              No  No internet service   \n",
      "6670             1               Yes             DSL                   No   \n",
      "6754             1               Yes             DSL                  Yes   \n",
      "\n",
      "      ...     DeviceProtection          TechSupport          StreamingTV  \\\n",
      "488   ...                  Yes                  Yes                  Yes   \n",
      "753   ...  No internet service  No internet service  No internet service   \n",
      "936   ...                  Yes                   No                  Yes   \n",
      "1082  ...  No internet service  No internet service  No internet service   \n",
      "1340  ...                  Yes                  Yes                  Yes   \n",
      "3331  ...  No internet service  No internet service  No internet service   \n",
      "3826  ...  No internet service  No internet service  No internet service   \n",
      "4380  ...  No internet service  No internet service  No internet service   \n",
      "5218  ...  No internet service  No internet service  No internet service   \n",
      "6670  ...                  Yes                  Yes                  Yes   \n",
      "6754  ...                   No                  Yes                   No   \n",
      "\n",
      "          StreamingMovies  Contract PaperlessBilling  \\\n",
      "488                    No  Two year                1   \n",
      "753   No internet service  Two year                0   \n",
      "936                   Yes  Two year                0   \n",
      "1082  No internet service  Two year                0   \n",
      "1340                   No  Two year                0   \n",
      "3331  No internet service  Two year                0   \n",
      "3826  No internet service  Two year                0   \n",
      "4380  No internet service  Two year                0   \n",
      "5218  No internet service  One year                1   \n",
      "6670                   No  Two year                0   \n",
      "6754                   No  Two year                1   \n",
      "\n",
      "                  PaymentMethod MonthlyCharges  TotalCharges  Churn  \n",
      "488   Bank transfer (automatic)          52.55           0.0      0  \n",
      "753                Mailed check          20.25           0.0      0  \n",
      "936                Mailed check          80.85           0.0      0  \n",
      "1082               Mailed check          25.75           0.0      0  \n",
      "1340    Credit card (automatic)          56.05           0.0      0  \n",
      "3331               Mailed check          19.85           0.0      0  \n",
      "3826               Mailed check          25.35           0.0      0  \n",
      "4380               Mailed check          20.00           0.0      0  \n",
      "5218               Mailed check          19.70           0.0      0  \n",
      "6670               Mailed check          73.35           0.0      0  \n",
      "6754  Bank transfer (automatic)          61.90           0.0      0  \n",
      "\n",
      "[11 rows x 21 columns]\n"
     ]
    }
   ],
   "source": [
    "print(df[df['TotalCharges'] == 0].head(20))"
   ]
  },
  {
   "cell_type": "code",
   "execution_count": 145,
   "id": "534affe9-164c-474e-bfd6-c40f01e30cd8",
   "metadata": {},
   "outputs": [],
   "source": [
    "# It looks like these are the customers who have not completed a full month. \n",
    "# Their tenure shows how many months they have been with the company(0) but churn suggests they have not left. \n",
    "# The TotalCharges is the total amount over tenure.\n",
    "# These 11 values should be changes from zero to the value in MonthlyCharges column. "
   ]
  },
  {
   "cell_type": "code",
   "execution_count": 147,
   "id": "853932be-cf75-45f7-a8b0-1bf24e5047c5",
   "metadata": {},
   "outputs": [
    {
     "name": "stdout",
     "output_type": "stream",
     "text": [
      "     customerID  gender  SeniorCitizen  Partner  Dependents  tenure  \\\n",
      "0    7590-VHVEG  Female              0        1           0       1   \n",
      "20   8779-QRDMV    Male              1        0           0       1   \n",
      "22   1066-JKSGK    Male              0        0           0       1   \n",
      "27   8665-UTDHZ    Male              0        1           1       1   \n",
      "33   7310-EGVHZ    Male              0        0           0       1   \n",
      "34   3413-BMNZE    Male              1        0           0       1   \n",
      "70   2273-QCKXA    Male              0        0           0       1   \n",
      "80   5919-TMRGD  Female              0        0           1       1   \n",
      "91   2424-WVHPL    Male              1        0           0       1   \n",
      "100  6380-ARCEH    Male              0        0           0       1   \n",
      "101  3679-XASPY  Female              0        1           1       1   \n",
      "128  3930-ZGWVE    Male              0        0           0       1   \n",
      "133  3091-FYHKI    Male              0        0           0       1   \n",
      "139  0390-DCFDQ  Female              1        1           0       1   \n",
      "147  2135-RXIHG    Male              0        0           0       1   \n",
      "180  6317-YPKDH  Female              0        0           0       1   \n",
      "181  6582-OIVSP  Female              0        0           0       1   \n",
      "185  1024-GUALD  Female              0        1           0       1   \n",
      "199  3645-DEYGF    Male              0        0           1       1   \n",
      "207  1285-OKIPP    Male              0        0           0       1   \n",
      "\n",
      "     PhoneService     MultipleLines InternetService       OnlineSecurity  ...  \\\n",
      "0               0  No phone service             DSL                   No  ...   \n",
      "20              0  No phone service             DSL                   No  ...   \n",
      "22              1                No              No  No internet service  ...   \n",
      "27              0  No phone service             DSL                   No  ...   \n",
      "33              1                No              No  No internet service  ...   \n",
      "34              1                No             DSL                   No  ...   \n",
      "70              1                No             DSL                   No  ...   \n",
      "80              1                No     Fiber optic                   No  ...   \n",
      "91              1                No     Fiber optic                   No  ...   \n",
      "100             1                No              No  No internet service  ...   \n",
      "101             1                No              No  No internet service  ...   \n",
      "128             1                No              No  No internet service  ...   \n",
      "133             0  No phone service             DSL                   No  ...   \n",
      "139             1                No     Fiber optic                   No  ...   \n",
      "147             1                No             DSL                   No  ...   \n",
      "180             0  No phone service             DSL                   No  ...   \n",
      "181             1                No             DSL                   No  ...   \n",
      "185             0  No phone service             DSL                   No  ...   \n",
      "199             1                No              No  No internet service  ...   \n",
      "207             1                No     Fiber optic                   No  ...   \n",
      "\n",
      "        DeviceProtection          TechSupport          StreamingTV  \\\n",
      "0                     No                   No                   No   \n",
      "20                   Yes                   No                   No   \n",
      "22   No internet service  No internet service  No internet service   \n",
      "27                    No                   No                   No   \n",
      "33   No internet service  No internet service  No internet service   \n",
      "34                    No                   No                   No   \n",
      "70                    No                  Yes                   No   \n",
      "80                    No                   No                  Yes   \n",
      "91                    No                  Yes                   No   \n",
      "100  No internet service  No internet service  No internet service   \n",
      "101  No internet service  No internet service  No internet service   \n",
      "128  No internet service  No internet service  No internet service   \n",
      "133                   No                   No                   No   \n",
      "139                   No                   No                   No   \n",
      "147                   No                   No                   No   \n",
      "180                   No                   No                   No   \n",
      "181                   No                   No                   No   \n",
      "185                   No                   No                   No   \n",
      "199  No internet service  No internet service  No internet service   \n",
      "207                   No                   No                   No   \n",
      "\n",
      "         StreamingMovies        Contract PaperlessBilling  \\\n",
      "0                     No  Month-to-month                1   \n",
      "20                   Yes  Month-to-month                1   \n",
      "22   No internet service  Month-to-month                0   \n",
      "27                    No  Month-to-month                0   \n",
      "33   No internet service  Month-to-month                0   \n",
      "34                    No  Month-to-month                0   \n",
      "70                    No  Month-to-month                0   \n",
      "80                    No  Month-to-month                1   \n",
      "91                    No  Month-to-month                0   \n",
      "100  No internet service  Month-to-month                0   \n",
      "101  No internet service  Month-to-month                0   \n",
      "128  No internet service  Month-to-month                0   \n",
      "133                  Yes  Month-to-month                1   \n",
      "139                   No  Month-to-month                1   \n",
      "147                   No  Month-to-month                1   \n",
      "180                   No  Month-to-month                0   \n",
      "181                   No  Month-to-month                0   \n",
      "185                   No  Month-to-month                1   \n",
      "199  No internet service  Month-to-month                0   \n",
      "207                  Yes  Month-to-month                0   \n",
      "\n",
      "                 PaymentMethod MonthlyCharges  TotalCharges  Churn  \n",
      "0             Electronic check          29.85         29.85      0  \n",
      "20            Electronic check          39.65         39.65      1  \n",
      "22                Mailed check          20.15         20.15      1  \n",
      "27            Electronic check          30.20         30.20      1  \n",
      "33   Bank transfer (automatic)          20.20         20.20      0  \n",
      "34   Bank transfer (automatic)          45.25         45.25      0  \n",
      "70                Mailed check          49.05         49.05      0  \n",
      "80            Electronic check          79.35         79.35      1  \n",
      "91            Electronic check          74.70         74.70      0  \n",
      "100               Mailed check          20.20         20.20      0  \n",
      "101           Electronic check          19.45         19.45      0  \n",
      "128               Mailed check          19.75         19.75      0  \n",
      "133           Electronic check          35.45         35.45      1  \n",
      "139               Mailed check          70.45         70.45      1  \n",
      "147           Electronic check          45.65         45.65      1  \n",
      "180  Bank transfer (automatic)          29.95         29.95      1  \n",
      "181               Mailed check          45.30         45.30      0  \n",
      "185           Electronic check          24.80         24.80      1  \n",
      "199               Mailed check          20.75         20.75      0  \n",
      "207           Electronic check          79.90         79.90      1  \n",
      "\n",
      "[20 rows x 21 columns]\n"
     ]
    }
   ],
   "source": [
    "# Just to make sure, lets check the customers who have completed one month:\n",
    "print(df[df['tenure'] == 1].head(20))"
   ]
  },
  {
   "cell_type": "code",
   "execution_count": 149,
   "id": "f6d6ae73-1418-4b58-af7f-06ec4e88908f",
   "metadata": {},
   "outputs": [
    {
     "name": "stdout",
     "output_type": "stream",
     "text": [
      "      MonthlyCharges  TotalCharges\n",
      "488            52.55         52.55\n",
      "753            20.25         20.25\n",
      "936            80.85         80.85\n",
      "1082           25.75         25.75\n",
      "1340           56.05         56.05\n",
      "3331           19.85         19.85\n",
      "3826           25.35         25.35\n",
      "4380           20.00         20.00\n",
      "5218           19.70         19.70\n",
      "6670           73.35         73.35\n",
      "6754           61.90         61.90\n"
     ]
    }
   ],
   "source": [
    "# Change zeros to match MonthlyCharges\n",
    "df.loc[df['TotalCharges'] == 0, 'TotalCharges'] = df['MonthlyCharges']\n",
    "print(df[df['tenure'] == 0][['MonthlyCharges', 'TotalCharges']])"
   ]
  },
  {
   "cell_type": "code",
   "execution_count": 153,
   "id": "e7c30a0c-ca24-43ec-ac9f-00a97739926d",
   "metadata": {},
   "outputs": [
    {
     "name": "stdout",
     "output_type": "stream",
     "text": [
      "Series([], Name: count, dtype: int64)\n",
      "OnlineBackup\n",
      "0    3088\n",
      "1    2429\n",
      "2    1526\n",
      "Name: count, dtype: int64\n",
      "DeviceProtection\n",
      "0    3095\n",
      "1    2422\n",
      "2    1526\n",
      "Name: count, dtype: int64\n",
      "TechSupport\n",
      "0    3473\n",
      "1    2044\n",
      "2    1526\n",
      "Name: count, dtype: int64\n",
      "StreamingTV\n",
      "0    2810\n",
      "1    2707\n",
      "2    1526\n",
      "Name: count, dtype: int64\n",
      "StreamingMovies\n",
      "0    2785\n",
      "1    2732\n",
      "2    1526\n",
      "Name: count, dtype: int64\n"
     ]
    }
   ],
   "source": [
    "# Next, MultipleLines will stay the same because the options are yes, no, and no PHONE service.\n",
    "# Six of the columns have yes, no, and no INTERNET service. So, these will be changes to 1,0,2 respectively. \n",
    "# These variables are OnlineSecurity, OnlineBackup, DeviceProtection, TechSupport, StreamingTV, and StreamingMovies.\n",
    "\n",
    "\n",
    "df['OnlineBackup'] = df['OnlineBackup'].map({'Yes': 1, 'No': 0, 'No internet service':2})\n",
    "df['DeviceProtection'] = df['DeviceProtection'].map({'Yes': 1, 'No': 0, 'No internet service':2})\n",
    "df['TechSupport'] = df['TechSupport'].map({'Yes': 1, 'No': 0, 'No internet service':2})\n",
    "df['StreamingTV'] = df['StreamingTV'].map({'Yes': 1, 'No': 0, 'No internet service':2})\n",
    "df['StreamingMovies'] = df['StreamingMovies'].map({'Yes': 1, 'No': 0, 'No internet service':2})\n",
    "\n",
    "\n",
    "print(df['OnlineBackup'].value_counts())\n",
    "print(df['DeviceProtection'].value_counts())\n",
    "print(df['TechSupport'].value_counts())\n",
    "print(df['StreamingTV'].value_counts())\n",
    "print(df['StreamingMovies'].value_counts())"
   ]
  },
  {
   "cell_type": "code",
   "execution_count": 155,
   "id": "1b72c54c-3a6e-4549-a63f-fc618eb20611",
   "metadata": {},
   "outputs": [
    {
     "name": "stdout",
     "output_type": "stream",
     "text": [
      "OnlineSecurity\n",
      "0    3498\n",
      "1    2019\n",
      "2    1526\n",
      "Name: count, dtype: int64\n"
     ]
    }
   ],
   "source": [
    "#Reload\n",
    "OnlineSecurity = pd.read_csv(r'C:\\Users\\milli\\OneDrive\\Documents\\TelcoCustomerChurn\\TelcoChurn_data_raw_8.25.25.csv', usecols=['OnlineSecurity'])\n",
    "df['OnlineSecurity'] = OnlineSecurity\n",
    "df['OnlineSecurity'] = df['OnlineSecurity'].map({'Yes': 1, 'No': 0, 'No internet service':2})\n",
    "print(df['OnlineSecurity'].value_counts())"
   ]
  },
  {
   "cell_type": "code",
   "execution_count": 157,
   "id": "fdc4fef8-8788-48ba-bf2e-299dd1d0446e",
   "metadata": {},
   "outputs": [
    {
     "name": "stdout",
     "output_type": "stream",
     "text": [
      "customerID           object\n",
      "gender               object\n",
      "SeniorCitizen         int64\n",
      "Partner               int64\n",
      "Dependents            int64\n",
      "tenure                int64\n",
      "PhoneService          int64\n",
      "MultipleLines        object\n",
      "InternetService      object\n",
      "OnlineSecurity        int64\n",
      "OnlineBackup          int64\n",
      "DeviceProtection      int64\n",
      "TechSupport           int64\n",
      "StreamingTV           int64\n",
      "StreamingMovies       int64\n",
      "Contract             object\n",
      "PaperlessBilling      int64\n",
      "PaymentMethod        object\n",
      "MonthlyCharges      float64\n",
      "TotalCharges        float64\n",
      "Churn                 int64\n",
      "dtype: object\n"
     ]
    }
   ],
   "source": [
    "print(df.dtypes)"
   ]
  },
  {
   "cell_type": "code",
   "execution_count": 159,
   "id": "d29256b0-22d5-408a-ac8c-feae2bad0cdb",
   "metadata": {},
   "outputs": [],
   "source": [
    "# Looking Good! "
   ]
  },
  {
   "cell_type": "code",
   "execution_count": 161,
   "id": "b3646a30-75e3-4239-aab5-b167c8c5b004",
   "metadata": {},
   "outputs": [
    {
     "data": {
      "text/html": [
       "<div>\n",
       "<style scoped>\n",
       "    .dataframe tbody tr th:only-of-type {\n",
       "        vertical-align: middle;\n",
       "    }\n",
       "\n",
       "    .dataframe tbody tr th {\n",
       "        vertical-align: top;\n",
       "    }\n",
       "\n",
       "    .dataframe thead th {\n",
       "        text-align: right;\n",
       "    }\n",
       "</style>\n",
       "<table border=\"1\" class=\"dataframe\">\n",
       "  <thead>\n",
       "    <tr style=\"text-align: right;\">\n",
       "      <th></th>\n",
       "      <th>customerID</th>\n",
       "      <th>gender</th>\n",
       "      <th>SeniorCitizen</th>\n",
       "      <th>Partner</th>\n",
       "      <th>Dependents</th>\n",
       "      <th>tenure</th>\n",
       "      <th>PhoneService</th>\n",
       "      <th>MultipleLines</th>\n",
       "      <th>InternetService</th>\n",
       "      <th>OnlineSecurity</th>\n",
       "      <th>...</th>\n",
       "      <th>TechSupport</th>\n",
       "      <th>StreamingTV</th>\n",
       "      <th>StreamingMovies</th>\n",
       "      <th>Contract</th>\n",
       "      <th>PaperlessBilling</th>\n",
       "      <th>PaymentMethod</th>\n",
       "      <th>MonthlyCharges</th>\n",
       "      <th>TotalCharges</th>\n",
       "      <th>Churn</th>\n",
       "      <th>AvgMonthlyRevenue</th>\n",
       "    </tr>\n",
       "  </thead>\n",
       "  <tbody>\n",
       "    <tr>\n",
       "      <th>0</th>\n",
       "      <td>7590-VHVEG</td>\n",
       "      <td>Female</td>\n",
       "      <td>0</td>\n",
       "      <td>1</td>\n",
       "      <td>0</td>\n",
       "      <td>1</td>\n",
       "      <td>0</td>\n",
       "      <td>No phone service</td>\n",
       "      <td>DSL</td>\n",
       "      <td>0</td>\n",
       "      <td>...</td>\n",
       "      <td>0</td>\n",
       "      <td>0</td>\n",
       "      <td>0</td>\n",
       "      <td>Month-to-month</td>\n",
       "      <td>1</td>\n",
       "      <td>Electronic check</td>\n",
       "      <td>29.85</td>\n",
       "      <td>29.85</td>\n",
       "      <td>0</td>\n",
       "      <td>29.850000</td>\n",
       "    </tr>\n",
       "    <tr>\n",
       "      <th>1</th>\n",
       "      <td>5575-GNVDE</td>\n",
       "      <td>Male</td>\n",
       "      <td>0</td>\n",
       "      <td>0</td>\n",
       "      <td>0</td>\n",
       "      <td>34</td>\n",
       "      <td>1</td>\n",
       "      <td>No</td>\n",
       "      <td>DSL</td>\n",
       "      <td>1</td>\n",
       "      <td>...</td>\n",
       "      <td>0</td>\n",
       "      <td>0</td>\n",
       "      <td>0</td>\n",
       "      <td>One year</td>\n",
       "      <td>0</td>\n",
       "      <td>Mailed check</td>\n",
       "      <td>56.95</td>\n",
       "      <td>1889.50</td>\n",
       "      <td>0</td>\n",
       "      <td>55.573529</td>\n",
       "    </tr>\n",
       "    <tr>\n",
       "      <th>2</th>\n",
       "      <td>3668-QPYBK</td>\n",
       "      <td>Male</td>\n",
       "      <td>0</td>\n",
       "      <td>0</td>\n",
       "      <td>0</td>\n",
       "      <td>2</td>\n",
       "      <td>1</td>\n",
       "      <td>No</td>\n",
       "      <td>DSL</td>\n",
       "      <td>1</td>\n",
       "      <td>...</td>\n",
       "      <td>0</td>\n",
       "      <td>0</td>\n",
       "      <td>0</td>\n",
       "      <td>Month-to-month</td>\n",
       "      <td>1</td>\n",
       "      <td>Mailed check</td>\n",
       "      <td>53.85</td>\n",
       "      <td>108.15</td>\n",
       "      <td>1</td>\n",
       "      <td>54.075000</td>\n",
       "    </tr>\n",
       "  </tbody>\n",
       "</table>\n",
       "<p>3 rows × 22 columns</p>\n",
       "</div>"
      ],
      "text/plain": [
       "   customerID  gender  SeniorCitizen  Partner  Dependents  tenure  \\\n",
       "0  7590-VHVEG  Female              0        1           0       1   \n",
       "1  5575-GNVDE    Male              0        0           0      34   \n",
       "2  3668-QPYBK    Male              0        0           0       2   \n",
       "\n",
       "   PhoneService     MultipleLines InternetService  OnlineSecurity  ...  \\\n",
       "0             0  No phone service             DSL               0  ...   \n",
       "1             1                No             DSL               1  ...   \n",
       "2             1                No             DSL               1  ...   \n",
       "\n",
       "   TechSupport  StreamingTV  StreamingMovies        Contract  \\\n",
       "0            0            0                0  Month-to-month   \n",
       "1            0            0                0        One year   \n",
       "2            0            0                0  Month-to-month   \n",
       "\n",
       "   PaperlessBilling     PaymentMethod  MonthlyCharges TotalCharges  Churn  \\\n",
       "0                 1  Electronic check           29.85        29.85      0   \n",
       "1                 0      Mailed check           56.95      1889.50      0   \n",
       "2                 1      Mailed check           53.85       108.15      1   \n",
       "\n",
       "   AvgMonthlyRevenue  \n",
       "0          29.850000  \n",
       "1          55.573529  \n",
       "2          54.075000  \n",
       "\n",
       "[3 rows x 22 columns]"
      ]
     },
     "execution_count": 161,
     "metadata": {},
     "output_type": "execute_result"
    }
   ],
   "source": [
    "# Next, create some new variables.\n",
    "# First, create AvgMonthlyRevenue to determine if high spenders churn differently. It will show on average how much customers pay per month of tenure.\n",
    "df['AvgMonthlyRevenue'] = df['TotalCharges'].astype(float) / df['tenure'].replace(0, 1)\n",
    "df.head(3)"
   ]
  },
  {
   "cell_type": "code",
   "execution_count": 163,
   "id": "25486f47-f773-472c-91e7-6605e1516221",
   "metadata": {},
   "outputs": [
    {
     "data": {
      "text/html": [
       "<div>\n",
       "<style scoped>\n",
       "    .dataframe tbody tr th:only-of-type {\n",
       "        vertical-align: middle;\n",
       "    }\n",
       "\n",
       "    .dataframe tbody tr th {\n",
       "        vertical-align: top;\n",
       "    }\n",
       "\n",
       "    .dataframe thead th {\n",
       "        text-align: right;\n",
       "    }\n",
       "</style>\n",
       "<table border=\"1\" class=\"dataframe\">\n",
       "  <thead>\n",
       "    <tr style=\"text-align: right;\">\n",
       "      <th></th>\n",
       "      <th>customerID</th>\n",
       "      <th>gender</th>\n",
       "      <th>SeniorCitizen</th>\n",
       "      <th>Partner</th>\n",
       "      <th>Dependents</th>\n",
       "      <th>tenure</th>\n",
       "      <th>PhoneService</th>\n",
       "      <th>MultipleLines</th>\n",
       "      <th>InternetService</th>\n",
       "      <th>OnlineSecurity</th>\n",
       "      <th>...</th>\n",
       "      <th>StreamingTV</th>\n",
       "      <th>StreamingMovies</th>\n",
       "      <th>Contract</th>\n",
       "      <th>PaperlessBilling</th>\n",
       "      <th>PaymentMethod</th>\n",
       "      <th>MonthlyCharges</th>\n",
       "      <th>TotalCharges</th>\n",
       "      <th>Churn</th>\n",
       "      <th>AvgMonthlyRevenue</th>\n",
       "      <th>TenureGroup</th>\n",
       "    </tr>\n",
       "  </thead>\n",
       "  <tbody>\n",
       "    <tr>\n",
       "      <th>0</th>\n",
       "      <td>7590-VHVEG</td>\n",
       "      <td>Female</td>\n",
       "      <td>0</td>\n",
       "      <td>1</td>\n",
       "      <td>0</td>\n",
       "      <td>1</td>\n",
       "      <td>0</td>\n",
       "      <td>No phone service</td>\n",
       "      <td>DSL</td>\n",
       "      <td>0</td>\n",
       "      <td>...</td>\n",
       "      <td>0</td>\n",
       "      <td>0</td>\n",
       "      <td>Month-to-month</td>\n",
       "      <td>1</td>\n",
       "      <td>Electronic check</td>\n",
       "      <td>29.85</td>\n",
       "      <td>29.85</td>\n",
       "      <td>0</td>\n",
       "      <td>29.850000</td>\n",
       "      <td>0–1yr</td>\n",
       "    </tr>\n",
       "    <tr>\n",
       "      <th>1</th>\n",
       "      <td>5575-GNVDE</td>\n",
       "      <td>Male</td>\n",
       "      <td>0</td>\n",
       "      <td>0</td>\n",
       "      <td>0</td>\n",
       "      <td>34</td>\n",
       "      <td>1</td>\n",
       "      <td>No</td>\n",
       "      <td>DSL</td>\n",
       "      <td>1</td>\n",
       "      <td>...</td>\n",
       "      <td>0</td>\n",
       "      <td>0</td>\n",
       "      <td>One year</td>\n",
       "      <td>0</td>\n",
       "      <td>Mailed check</td>\n",
       "      <td>56.95</td>\n",
       "      <td>1889.50</td>\n",
       "      <td>0</td>\n",
       "      <td>55.573529</td>\n",
       "      <td>2–4yr</td>\n",
       "    </tr>\n",
       "    <tr>\n",
       "      <th>2</th>\n",
       "      <td>3668-QPYBK</td>\n",
       "      <td>Male</td>\n",
       "      <td>0</td>\n",
       "      <td>0</td>\n",
       "      <td>0</td>\n",
       "      <td>2</td>\n",
       "      <td>1</td>\n",
       "      <td>No</td>\n",
       "      <td>DSL</td>\n",
       "      <td>1</td>\n",
       "      <td>...</td>\n",
       "      <td>0</td>\n",
       "      <td>0</td>\n",
       "      <td>Month-to-month</td>\n",
       "      <td>1</td>\n",
       "      <td>Mailed check</td>\n",
       "      <td>53.85</td>\n",
       "      <td>108.15</td>\n",
       "      <td>1</td>\n",
       "      <td>54.075000</td>\n",
       "      <td>0–1yr</td>\n",
       "    </tr>\n",
       "  </tbody>\n",
       "</table>\n",
       "<p>3 rows × 23 columns</p>\n",
       "</div>"
      ],
      "text/plain": [
       "   customerID  gender  SeniorCitizen  Partner  Dependents  tenure  \\\n",
       "0  7590-VHVEG  Female              0        1           0       1   \n",
       "1  5575-GNVDE    Male              0        0           0      34   \n",
       "2  3668-QPYBK    Male              0        0           0       2   \n",
       "\n",
       "   PhoneService     MultipleLines InternetService  OnlineSecurity  ...  \\\n",
       "0             0  No phone service             DSL               0  ...   \n",
       "1             1                No             DSL               1  ...   \n",
       "2             1                No             DSL               1  ...   \n",
       "\n",
       "   StreamingTV  StreamingMovies        Contract  PaperlessBilling  \\\n",
       "0            0                0  Month-to-month                 1   \n",
       "1            0                0        One year                 0   \n",
       "2            0                0  Month-to-month                 1   \n",
       "\n",
       "      PaymentMethod MonthlyCharges  TotalCharges Churn  AvgMonthlyRevenue  \\\n",
       "0  Electronic check          29.85         29.85     0          29.850000   \n",
       "1      Mailed check          56.95       1889.50     0          55.573529   \n",
       "2      Mailed check          53.85        108.15     1          54.075000   \n",
       "\n",
       "   TenureGroup  \n",
       "0        0–1yr  \n",
       "1        2–4yr  \n",
       "2        0–1yr  \n",
       "\n",
       "[3 rows x 23 columns]"
      ]
     },
     "execution_count": 163,
     "metadata": {},
     "output_type": "execute_result"
    }
   ],
   "source": [
    "# Create tenure buckets \n",
    "df['TenureGroup'] = pd.cut(\n",
    "    df['tenure'],\n",
    "    bins=[0, 12, 24, 48, 72],\n",
    "    labels=['0–1yr', '1–2yr', '2–4yr', '4–6yr'])\n",
    "df.head(3)"
   ]
  },
  {
   "cell_type": "code",
   "execution_count": 169,
   "id": "922d22da-abf1-4fc8-8213-61982004ddfd",
   "metadata": {},
   "outputs": [
    {
     "data": {
      "text/html": [
       "<div>\n",
       "<style scoped>\n",
       "    .dataframe tbody tr th:only-of-type {\n",
       "        vertical-align: middle;\n",
       "    }\n",
       "\n",
       "    .dataframe tbody tr th {\n",
       "        vertical-align: top;\n",
       "    }\n",
       "\n",
       "    .dataframe thead th {\n",
       "        text-align: right;\n",
       "    }\n",
       "</style>\n",
       "<table border=\"1\" class=\"dataframe\">\n",
       "  <thead>\n",
       "    <tr style=\"text-align: right;\">\n",
       "      <th></th>\n",
       "      <th>customerID</th>\n",
       "      <th>gender</th>\n",
       "      <th>SeniorCitizen</th>\n",
       "      <th>Partner</th>\n",
       "      <th>Dependents</th>\n",
       "      <th>tenure</th>\n",
       "      <th>PhoneService</th>\n",
       "      <th>MultipleLines</th>\n",
       "      <th>InternetService</th>\n",
       "      <th>OnlineSecurity</th>\n",
       "      <th>...</th>\n",
       "      <th>StreamingMovies</th>\n",
       "      <th>Contract</th>\n",
       "      <th>PaperlessBilling</th>\n",
       "      <th>PaymentMethod</th>\n",
       "      <th>MonthlyCharges</th>\n",
       "      <th>TotalCharges</th>\n",
       "      <th>Churn</th>\n",
       "      <th>AvgMonthlyRevenue</th>\n",
       "      <th>TenureGroup</th>\n",
       "      <th>NumServices</th>\n",
       "    </tr>\n",
       "  </thead>\n",
       "  <tbody>\n",
       "    <tr>\n",
       "      <th>0</th>\n",
       "      <td>7590-VHVEG</td>\n",
       "      <td>Female</td>\n",
       "      <td>0</td>\n",
       "      <td>1</td>\n",
       "      <td>0</td>\n",
       "      <td>1</td>\n",
       "      <td>0</td>\n",
       "      <td>No phone service</td>\n",
       "      <td>DSL</td>\n",
       "      <td>0</td>\n",
       "      <td>...</td>\n",
       "      <td>0</td>\n",
       "      <td>Month-to-month</td>\n",
       "      <td>1</td>\n",
       "      <td>Electronic check</td>\n",
       "      <td>29.85</td>\n",
       "      <td>29.85</td>\n",
       "      <td>0</td>\n",
       "      <td>29.850000</td>\n",
       "      <td>0–1yr</td>\n",
       "      <td>0</td>\n",
       "    </tr>\n",
       "    <tr>\n",
       "      <th>1</th>\n",
       "      <td>5575-GNVDE</td>\n",
       "      <td>Male</td>\n",
       "      <td>0</td>\n",
       "      <td>0</td>\n",
       "      <td>0</td>\n",
       "      <td>34</td>\n",
       "      <td>1</td>\n",
       "      <td>No</td>\n",
       "      <td>DSL</td>\n",
       "      <td>1</td>\n",
       "      <td>...</td>\n",
       "      <td>0</td>\n",
       "      <td>One year</td>\n",
       "      <td>0</td>\n",
       "      <td>Mailed check</td>\n",
       "      <td>56.95</td>\n",
       "      <td>1889.50</td>\n",
       "      <td>0</td>\n",
       "      <td>55.573529</td>\n",
       "      <td>2–4yr</td>\n",
       "      <td>0</td>\n",
       "    </tr>\n",
       "    <tr>\n",
       "      <th>2</th>\n",
       "      <td>3668-QPYBK</td>\n",
       "      <td>Male</td>\n",
       "      <td>0</td>\n",
       "      <td>0</td>\n",
       "      <td>0</td>\n",
       "      <td>2</td>\n",
       "      <td>1</td>\n",
       "      <td>No</td>\n",
       "      <td>DSL</td>\n",
       "      <td>1</td>\n",
       "      <td>...</td>\n",
       "      <td>0</td>\n",
       "      <td>Month-to-month</td>\n",
       "      <td>1</td>\n",
       "      <td>Mailed check</td>\n",
       "      <td>53.85</td>\n",
       "      <td>108.15</td>\n",
       "      <td>1</td>\n",
       "      <td>54.075000</td>\n",
       "      <td>0–1yr</td>\n",
       "      <td>0</td>\n",
       "    </tr>\n",
       "  </tbody>\n",
       "</table>\n",
       "<p>3 rows × 24 columns</p>\n",
       "</div>"
      ],
      "text/plain": [
       "   customerID  gender  SeniorCitizen  Partner  Dependents  tenure  \\\n",
       "0  7590-VHVEG  Female              0        1           0       1   \n",
       "1  5575-GNVDE    Male              0        0           0      34   \n",
       "2  3668-QPYBK    Male              0        0           0       2   \n",
       "\n",
       "   PhoneService     MultipleLines InternetService  OnlineSecurity  ...  \\\n",
       "0             0  No phone service             DSL               0  ...   \n",
       "1             1                No             DSL               1  ...   \n",
       "2             1                No             DSL               1  ...   \n",
       "\n",
       "   StreamingMovies        Contract  PaperlessBilling     PaymentMethod  \\\n",
       "0                0  Month-to-month                 1  Electronic check   \n",
       "1                0        One year                 0      Mailed check   \n",
       "2                0  Month-to-month                 1      Mailed check   \n",
       "\n",
       "   MonthlyCharges TotalCharges  Churn AvgMonthlyRevenue  TenureGroup  \\\n",
       "0           29.85        29.85      0         29.850000        0–1yr   \n",
       "1           56.95      1889.50      0         55.573529        2–4yr   \n",
       "2           53.85       108.15      1         54.075000        0–1yr   \n",
       "\n",
       "   NumServices  \n",
       "0            0  \n",
       "1            0  \n",
       "2            0  \n",
       "\n",
       "[3 rows x 24 columns]"
      ]
     },
     "execution_count": 169,
     "metadata": {},
     "output_type": "execute_result"
    }
   ],
   "source": [
    "# Determine how many optional services a customer has subscribed to\n",
    "services = ['PhoneService','MultipleLines','OnlineSecurity','OnlineBackup',\n",
    "            'DeviceProtection','TechSupport','StreamingTV','StreamingMovies']\n",
    "df['NumServices'] = (df[services] == 'Yes').sum(axis=1)\n",
    "df.head(3)"
   ]
  },
  {
   "cell_type": "code",
   "execution_count": 175,
   "id": "d2619f87-87b7-45ce-81ae-950b36c08117",
   "metadata": {},
   "outputs": [
    {
     "data": {
      "text/html": [
       "<div>\n",
       "<style scoped>\n",
       "    .dataframe tbody tr th:only-of-type {\n",
       "        vertical-align: middle;\n",
       "    }\n",
       "\n",
       "    .dataframe tbody tr th {\n",
       "        vertical-align: top;\n",
       "    }\n",
       "\n",
       "    .dataframe thead th {\n",
       "        text-align: right;\n",
       "    }\n",
       "</style>\n",
       "<table border=\"1\" class=\"dataframe\">\n",
       "  <thead>\n",
       "    <tr style=\"text-align: right;\">\n",
       "      <th></th>\n",
       "      <th>customerID</th>\n",
       "      <th>gender</th>\n",
       "      <th>SeniorCitizen</th>\n",
       "      <th>Partner</th>\n",
       "      <th>Dependents</th>\n",
       "      <th>tenure</th>\n",
       "      <th>PhoneService</th>\n",
       "      <th>MultipleLines</th>\n",
       "      <th>InternetService</th>\n",
       "      <th>OnlineSecurity</th>\n",
       "      <th>...</th>\n",
       "      <th>Contract</th>\n",
       "      <th>PaperlessBilling</th>\n",
       "      <th>PaymentMethod</th>\n",
       "      <th>MonthlyCharges</th>\n",
       "      <th>TotalCharges</th>\n",
       "      <th>Churn</th>\n",
       "      <th>AvgMonthlyRevenue</th>\n",
       "      <th>TenureGroup</th>\n",
       "      <th>NumServices</th>\n",
       "      <th>IsAutoPay</th>\n",
       "    </tr>\n",
       "  </thead>\n",
       "  <tbody>\n",
       "    <tr>\n",
       "      <th>0</th>\n",
       "      <td>7590-VHVEG</td>\n",
       "      <td>Female</td>\n",
       "      <td>0</td>\n",
       "      <td>1</td>\n",
       "      <td>0</td>\n",
       "      <td>1</td>\n",
       "      <td>0</td>\n",
       "      <td>No phone service</td>\n",
       "      <td>DSL</td>\n",
       "      <td>0</td>\n",
       "      <td>...</td>\n",
       "      <td>Month-to-month</td>\n",
       "      <td>1</td>\n",
       "      <td>Electronic check</td>\n",
       "      <td>29.85</td>\n",
       "      <td>29.85</td>\n",
       "      <td>0</td>\n",
       "      <td>29.850000</td>\n",
       "      <td>0–1yr</td>\n",
       "      <td>0</td>\n",
       "      <td>0</td>\n",
       "    </tr>\n",
       "    <tr>\n",
       "      <th>1</th>\n",
       "      <td>5575-GNVDE</td>\n",
       "      <td>Male</td>\n",
       "      <td>0</td>\n",
       "      <td>0</td>\n",
       "      <td>0</td>\n",
       "      <td>34</td>\n",
       "      <td>1</td>\n",
       "      <td>No</td>\n",
       "      <td>DSL</td>\n",
       "      <td>1</td>\n",
       "      <td>...</td>\n",
       "      <td>One year</td>\n",
       "      <td>0</td>\n",
       "      <td>Mailed check</td>\n",
       "      <td>56.95</td>\n",
       "      <td>1889.50</td>\n",
       "      <td>0</td>\n",
       "      <td>55.573529</td>\n",
       "      <td>2–4yr</td>\n",
       "      <td>0</td>\n",
       "      <td>0</td>\n",
       "    </tr>\n",
       "    <tr>\n",
       "      <th>2</th>\n",
       "      <td>3668-QPYBK</td>\n",
       "      <td>Male</td>\n",
       "      <td>0</td>\n",
       "      <td>0</td>\n",
       "      <td>0</td>\n",
       "      <td>2</td>\n",
       "      <td>1</td>\n",
       "      <td>No</td>\n",
       "      <td>DSL</td>\n",
       "      <td>1</td>\n",
       "      <td>...</td>\n",
       "      <td>Month-to-month</td>\n",
       "      <td>1</td>\n",
       "      <td>Mailed check</td>\n",
       "      <td>53.85</td>\n",
       "      <td>108.15</td>\n",
       "      <td>1</td>\n",
       "      <td>54.075000</td>\n",
       "      <td>0–1yr</td>\n",
       "      <td>0</td>\n",
       "      <td>0</td>\n",
       "    </tr>\n",
       "  </tbody>\n",
       "</table>\n",
       "<p>3 rows × 25 columns</p>\n",
       "</div>"
      ],
      "text/plain": [
       "   customerID  gender  SeniorCitizen  Partner  Dependents  tenure  \\\n",
       "0  7590-VHVEG  Female              0        1           0       1   \n",
       "1  5575-GNVDE    Male              0        0           0      34   \n",
       "2  3668-QPYBK    Male              0        0           0       2   \n",
       "\n",
       "   PhoneService     MultipleLines InternetService  OnlineSecurity  ...  \\\n",
       "0             0  No phone service             DSL               0  ...   \n",
       "1             1                No             DSL               1  ...   \n",
       "2             1                No             DSL               1  ...   \n",
       "\n",
       "         Contract  PaperlessBilling     PaymentMethod  MonthlyCharges  \\\n",
       "0  Month-to-month                 1  Electronic check           29.85   \n",
       "1        One year                 0      Mailed check           56.95   \n",
       "2  Month-to-month                 1      Mailed check           53.85   \n",
       "\n",
       "   TotalCharges Churn  AvgMonthlyRevenue TenureGroup  NumServices  IsAutoPay  \n",
       "0         29.85     0          29.850000       0–1yr            0          0  \n",
       "1       1889.50     0          55.573529       2–4yr            0          0  \n",
       "2        108.15     1          54.075000       0–1yr            0          0  \n",
       "\n",
       "[3 rows x 25 columns]"
      ]
     },
     "execution_count": 175,
     "metadata": {},
     "output_type": "execute_result"
    }
   ],
   "source": [
    "# Autopay\n",
    "df['IsAutoPay'] = df['PaymentMethod'].str.contains('automatic', case=False).astype(int)\n",
    "df.head(3)"
   ]
  },
  {
   "cell_type": "code",
   "execution_count": 177,
   "id": "4b8b7667-5c01-45c2-b294-8b71bee1d636",
   "metadata": {},
   "outputs": [
    {
     "data": {
      "text/html": [
       "<div>\n",
       "<style scoped>\n",
       "    .dataframe tbody tr th:only-of-type {\n",
       "        vertical-align: middle;\n",
       "    }\n",
       "\n",
       "    .dataframe tbody tr th {\n",
       "        vertical-align: top;\n",
       "    }\n",
       "\n",
       "    .dataframe thead th {\n",
       "        text-align: right;\n",
       "    }\n",
       "</style>\n",
       "<table border=\"1\" class=\"dataframe\">\n",
       "  <thead>\n",
       "    <tr style=\"text-align: right;\">\n",
       "      <th></th>\n",
       "      <th>customerID</th>\n",
       "      <th>gender</th>\n",
       "      <th>SeniorCitizen</th>\n",
       "      <th>Partner</th>\n",
       "      <th>Dependents</th>\n",
       "      <th>tenure</th>\n",
       "      <th>PhoneService</th>\n",
       "      <th>MultipleLines</th>\n",
       "      <th>InternetService</th>\n",
       "      <th>OnlineSecurity</th>\n",
       "      <th>...</th>\n",
       "      <th>PaperlessBilling</th>\n",
       "      <th>PaymentMethod</th>\n",
       "      <th>MonthlyCharges</th>\n",
       "      <th>TotalCharges</th>\n",
       "      <th>Churn</th>\n",
       "      <th>AvgMonthlyRevenue</th>\n",
       "      <th>TenureGroup</th>\n",
       "      <th>NumServices</th>\n",
       "      <th>IsAutoPay</th>\n",
       "      <th>RiskScore</th>\n",
       "    </tr>\n",
       "  </thead>\n",
       "  <tbody>\n",
       "    <tr>\n",
       "      <th>0</th>\n",
       "      <td>7590-VHVEG</td>\n",
       "      <td>Female</td>\n",
       "      <td>0</td>\n",
       "      <td>1</td>\n",
       "      <td>0</td>\n",
       "      <td>1</td>\n",
       "      <td>0</td>\n",
       "      <td>No phone service</td>\n",
       "      <td>DSL</td>\n",
       "      <td>0</td>\n",
       "      <td>...</td>\n",
       "      <td>1</td>\n",
       "      <td>Electronic check</td>\n",
       "      <td>29.85</td>\n",
       "      <td>29.85</td>\n",
       "      <td>0</td>\n",
       "      <td>29.850000</td>\n",
       "      <td>0–1yr</td>\n",
       "      <td>0</td>\n",
       "      <td>0</td>\n",
       "      <td>2</td>\n",
       "    </tr>\n",
       "    <tr>\n",
       "      <th>1</th>\n",
       "      <td>5575-GNVDE</td>\n",
       "      <td>Male</td>\n",
       "      <td>0</td>\n",
       "      <td>0</td>\n",
       "      <td>0</td>\n",
       "      <td>34</td>\n",
       "      <td>1</td>\n",
       "      <td>No</td>\n",
       "      <td>DSL</td>\n",
       "      <td>1</td>\n",
       "      <td>...</td>\n",
       "      <td>0</td>\n",
       "      <td>Mailed check</td>\n",
       "      <td>56.95</td>\n",
       "      <td>1889.50</td>\n",
       "      <td>0</td>\n",
       "      <td>55.573529</td>\n",
       "      <td>2–4yr</td>\n",
       "      <td>0</td>\n",
       "      <td>0</td>\n",
       "      <td>0</td>\n",
       "    </tr>\n",
       "    <tr>\n",
       "      <th>2</th>\n",
       "      <td>3668-QPYBK</td>\n",
       "      <td>Male</td>\n",
       "      <td>0</td>\n",
       "      <td>0</td>\n",
       "      <td>0</td>\n",
       "      <td>2</td>\n",
       "      <td>1</td>\n",
       "      <td>No</td>\n",
       "      <td>DSL</td>\n",
       "      <td>1</td>\n",
       "      <td>...</td>\n",
       "      <td>1</td>\n",
       "      <td>Mailed check</td>\n",
       "      <td>53.85</td>\n",
       "      <td>108.15</td>\n",
       "      <td>1</td>\n",
       "      <td>54.075000</td>\n",
       "      <td>0–1yr</td>\n",
       "      <td>0</td>\n",
       "      <td>0</td>\n",
       "      <td>2</td>\n",
       "    </tr>\n",
       "  </tbody>\n",
       "</table>\n",
       "<p>3 rows × 26 columns</p>\n",
       "</div>"
      ],
      "text/plain": [
       "   customerID  gender  SeniorCitizen  Partner  Dependents  tenure  \\\n",
       "0  7590-VHVEG  Female              0        1           0       1   \n",
       "1  5575-GNVDE    Male              0        0           0      34   \n",
       "2  3668-QPYBK    Male              0        0           0       2   \n",
       "\n",
       "   PhoneService     MultipleLines InternetService  OnlineSecurity  ...  \\\n",
       "0             0  No phone service             DSL               0  ...   \n",
       "1             1                No             DSL               1  ...   \n",
       "2             1                No             DSL               1  ...   \n",
       "\n",
       "   PaperlessBilling     PaymentMethod  MonthlyCharges  TotalCharges  Churn  \\\n",
       "0                 1  Electronic check           29.85         29.85      0   \n",
       "1                 0      Mailed check           56.95       1889.50      0   \n",
       "2                 1      Mailed check           53.85        108.15      1   \n",
       "\n",
       "  AvgMonthlyRevenue  TenureGroup NumServices  IsAutoPay  RiskScore  \n",
       "0         29.850000        0–1yr           0          0          2  \n",
       "1         55.573529        2–4yr           0          0          0  \n",
       "2         54.075000        0–1yr           0          0          2  \n",
       "\n",
       "[3 rows x 26 columns]"
      ]
     },
     "execution_count": 177,
     "metadata": {},
     "output_type": "execute_result"
    }
   ],
   "source": [
    "# Churn Risk Proxy \n",
    "# Combine short tenure + month-to-month contract + high monthly charges: High scores = High Churn Risk\n",
    "df['RiskScore'] = (\n",
    "    (df['tenure'] < 12).astype(int) +\n",
    "    (df['Contract'] == 'Month-to-month').astype(int) +\n",
    "    (df['MonthlyCharges'] > df['MonthlyCharges'].median()).astype(int)\n",
    ")\n",
    "df.head(3)"
   ]
  },
  {
   "cell_type": "code",
   "execution_count": 179,
   "id": "c48aebb3-32a2-4032-9561-1f8963bd985a",
   "metadata": {},
   "outputs": [
    {
     "data": {
      "text/html": [
       "<div>\n",
       "<style scoped>\n",
       "    .dataframe tbody tr th:only-of-type {\n",
       "        vertical-align: middle;\n",
       "    }\n",
       "\n",
       "    .dataframe tbody tr th {\n",
       "        vertical-align: top;\n",
       "    }\n",
       "\n",
       "    .dataframe thead th {\n",
       "        text-align: right;\n",
       "    }\n",
       "</style>\n",
       "<table border=\"1\" class=\"dataframe\">\n",
       "  <thead>\n",
       "    <tr style=\"text-align: right;\">\n",
       "      <th></th>\n",
       "      <th>customerID</th>\n",
       "      <th>gender</th>\n",
       "      <th>SeniorCitizen</th>\n",
       "      <th>Partner</th>\n",
       "      <th>Dependents</th>\n",
       "      <th>tenure</th>\n",
       "      <th>PhoneService</th>\n",
       "      <th>MultipleLines</th>\n",
       "      <th>InternetService</th>\n",
       "      <th>OnlineSecurity</th>\n",
       "      <th>...</th>\n",
       "      <th>PaymentMethod</th>\n",
       "      <th>MonthlyCharges</th>\n",
       "      <th>TotalCharges</th>\n",
       "      <th>Churn</th>\n",
       "      <th>AvgMonthlyRevenue</th>\n",
       "      <th>TenureGroup</th>\n",
       "      <th>NumServices</th>\n",
       "      <th>IsAutoPay</th>\n",
       "      <th>RiskScore</th>\n",
       "      <th>SeniorHighTech</th>\n",
       "    </tr>\n",
       "  </thead>\n",
       "  <tbody>\n",
       "    <tr>\n",
       "      <th>0</th>\n",
       "      <td>7590-VHVEG</td>\n",
       "      <td>Female</td>\n",
       "      <td>0</td>\n",
       "      <td>1</td>\n",
       "      <td>0</td>\n",
       "      <td>1</td>\n",
       "      <td>0</td>\n",
       "      <td>No phone service</td>\n",
       "      <td>DSL</td>\n",
       "      <td>0</td>\n",
       "      <td>...</td>\n",
       "      <td>Electronic check</td>\n",
       "      <td>29.85</td>\n",
       "      <td>29.85</td>\n",
       "      <td>0</td>\n",
       "      <td>29.850000</td>\n",
       "      <td>0–1yr</td>\n",
       "      <td>0</td>\n",
       "      <td>0</td>\n",
       "      <td>2</td>\n",
       "      <td>0</td>\n",
       "    </tr>\n",
       "    <tr>\n",
       "      <th>1</th>\n",
       "      <td>5575-GNVDE</td>\n",
       "      <td>Male</td>\n",
       "      <td>0</td>\n",
       "      <td>0</td>\n",
       "      <td>0</td>\n",
       "      <td>34</td>\n",
       "      <td>1</td>\n",
       "      <td>No</td>\n",
       "      <td>DSL</td>\n",
       "      <td>1</td>\n",
       "      <td>...</td>\n",
       "      <td>Mailed check</td>\n",
       "      <td>56.95</td>\n",
       "      <td>1889.50</td>\n",
       "      <td>0</td>\n",
       "      <td>55.573529</td>\n",
       "      <td>2–4yr</td>\n",
       "      <td>0</td>\n",
       "      <td>0</td>\n",
       "      <td>0</td>\n",
       "      <td>0</td>\n",
       "    </tr>\n",
       "    <tr>\n",
       "      <th>2</th>\n",
       "      <td>3668-QPYBK</td>\n",
       "      <td>Male</td>\n",
       "      <td>0</td>\n",
       "      <td>0</td>\n",
       "      <td>0</td>\n",
       "      <td>2</td>\n",
       "      <td>1</td>\n",
       "      <td>No</td>\n",
       "      <td>DSL</td>\n",
       "      <td>1</td>\n",
       "      <td>...</td>\n",
       "      <td>Mailed check</td>\n",
       "      <td>53.85</td>\n",
       "      <td>108.15</td>\n",
       "      <td>1</td>\n",
       "      <td>54.075000</td>\n",
       "      <td>0–1yr</td>\n",
       "      <td>0</td>\n",
       "      <td>0</td>\n",
       "      <td>2</td>\n",
       "      <td>0</td>\n",
       "    </tr>\n",
       "  </tbody>\n",
       "</table>\n",
       "<p>3 rows × 27 columns</p>\n",
       "</div>"
      ],
      "text/plain": [
       "   customerID  gender  SeniorCitizen  Partner  Dependents  tenure  \\\n",
       "0  7590-VHVEG  Female              0        1           0       1   \n",
       "1  5575-GNVDE    Male              0        0           0      34   \n",
       "2  3668-QPYBK    Male              0        0           0       2   \n",
       "\n",
       "   PhoneService     MultipleLines InternetService  OnlineSecurity  ...  \\\n",
       "0             0  No phone service             DSL               0  ...   \n",
       "1             1                No             DSL               1  ...   \n",
       "2             1                No             DSL               1  ...   \n",
       "\n",
       "      PaymentMethod  MonthlyCharges  TotalCharges  Churn  AvgMonthlyRevenue  \\\n",
       "0  Electronic check           29.85         29.85      0          29.850000   \n",
       "1      Mailed check           56.95       1889.50      0          55.573529   \n",
       "2      Mailed check           53.85        108.15      1          54.075000   \n",
       "\n",
       "  TenureGroup  NumServices IsAutoPay  RiskScore  SeniorHighTech  \n",
       "0       0–1yr            0         0          2               0  \n",
       "1       2–4yr            0         0          0               0  \n",
       "2       0–1yr            0         0          2               0  \n",
       "\n",
       "[3 rows x 27 columns]"
      ]
     },
     "execution_count": 179,
     "metadata": {},
     "output_type": "execute_result"
    }
   ],
   "source": [
    "# Senior Citizen with high tech use\n",
    "df['SeniorHighTech'] = ((df['SeniorCitizen'] == 1) & (df['NumServices'] > 3)).astype(int)\n",
    "df.head(3)"
   ]
  },
  {
   "cell_type": "code",
   "execution_count": null,
   "id": "f244a01e-553b-4d33-949c-0fccf534c7db",
   "metadata": {},
   "outputs": [],
   "source": []
  }
 ],
 "metadata": {
  "kernelspec": {
   "display_name": "Python 3 (ipykernel)",
   "language": "python",
   "name": "python3"
  },
  "language_info": {
   "codemirror_mode": {
    "name": "ipython",
    "version": 3
   },
   "file_extension": ".py",
   "mimetype": "text/x-python",
   "name": "python",
   "nbconvert_exporter": "python",
   "pygments_lexer": "ipython3",
   "version": "3.12.7"
  }
 },
 "nbformat": 4,
 "nbformat_minor": 5
}
